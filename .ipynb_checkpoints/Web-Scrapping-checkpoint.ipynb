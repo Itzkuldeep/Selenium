{
 "cells": [
  {
   "cell_type": "markdown",
   "id": "0277fbab-02e0-4ebe-a7ee-657875eaabdd",
   "metadata": {},
   "source": [
    "### Web Scrapping"
   ]
  },
  {
   "cell_type": "code",
   "execution_count": 1,
   "id": "0bc5c85b-3a8b-460c-b3ef-9c3a8e710ed4",
   "metadata": {
    "scrolled": true
   },
   "outputs": [
    {
     "name": "stdout",
     "output_type": "stream",
     "text": [
      "Collecting selenium==4.0.0.b4\n",
      "  Obtaining dependency information for selenium==4.0.0.b4 from https://files.pythonhosted.org/packages/d6/89/b70e657ffd2db2d917385ebf0a6aefb8f7613416607d07c80ab907e6328f/selenium-4.0.0.b4-py3-none-any.whl.metadata\n",
      "  Downloading selenium-4.0.0.b4-py3-none-any.whl.metadata (6.5 kB)\n",
      "Requirement already satisfied: urllib3[secure]~=1.26 in c:\\users\\kulde\\anaconda3\\lib\\site-packages (from selenium==4.0.0.b4) (1.26.18)\n",
      "Collecting trio~=0.17 (from selenium==4.0.0.b4)\n",
      "  Obtaining dependency information for trio~=0.17 from https://files.pythonhosted.org/packages/17/c9/f86f89f14d52f9f2f652ce24cb2f60141a51d087db1563f3fba94ba07346/trio-0.25.0-py3-none-any.whl.metadata\n",
      "  Downloading trio-0.25.0-py3-none-any.whl.metadata (8.7 kB)\n",
      "Collecting trio-websocket~=0.9 (from selenium==4.0.0.b4)\n",
      "  Obtaining dependency information for trio-websocket~=0.9 from https://files.pythonhosted.org/packages/48/be/a9ae5f50cad5b6f85bd2574c2c923730098530096e170c1ce7452394d7aa/trio_websocket-0.11.1-py3-none-any.whl.metadata\n",
      "  Downloading trio_websocket-0.11.1-py3-none-any.whl.metadata (4.7 kB)\n",
      "Collecting attrs>=23.2.0 (from trio~=0.17->selenium==4.0.0.b4)\n",
      "  Obtaining dependency information for attrs>=23.2.0 from https://files.pythonhosted.org/packages/e0/44/827b2a91a5816512fcaf3cc4ebc465ccd5d598c45cefa6703fcf4a79018f/attrs-23.2.0-py3-none-any.whl.metadata\n",
      "  Downloading attrs-23.2.0-py3-none-any.whl.metadata (9.5 kB)\n",
      "Collecting sortedcontainers (from trio~=0.17->selenium==4.0.0.b4)\n",
      "  Obtaining dependency information for sortedcontainers from https://files.pythonhosted.org/packages/32/46/9cb0e58b2deb7f82b84065f37f3bffeb12413f947f9388e4cac22c4621ce/sortedcontainers-2.4.0-py2.py3-none-any.whl.metadata\n",
      "  Downloading sortedcontainers-2.4.0-py2.py3-none-any.whl.metadata (10 kB)\n",
      "Requirement already satisfied: idna in c:\\users\\kulde\\anaconda3\\lib\\site-packages (from trio~=0.17->selenium==4.0.0.b4) (3.4)\n",
      "Collecting outcome (from trio~=0.17->selenium==4.0.0.b4)\n",
      "  Obtaining dependency information for outcome from https://files.pythonhosted.org/packages/55/8b/5ab7257531a5d830fc8000c476e63c935488d74609b50f9384a643ec0a62/outcome-1.3.0.post0-py2.py3-none-any.whl.metadata\n",
      "  Downloading outcome-1.3.0.post0-py2.py3-none-any.whl.metadata (2.6 kB)\n",
      "Requirement already satisfied: sniffio>=1.3.0 in c:\\users\\kulde\\anaconda3\\lib\\site-packages (from trio~=0.17->selenium==4.0.0.b4) (1.3.0)\n",
      "Requirement already satisfied: cffi>=1.14 in c:\\users\\kulde\\anaconda3\\lib\\site-packages (from trio~=0.17->selenium==4.0.0.b4) (1.16.0)\n",
      "Collecting wsproto>=0.14 (from trio-websocket~=0.9->selenium==4.0.0.b4)\n",
      "  Obtaining dependency information for wsproto>=0.14 from https://files.pythonhosted.org/packages/78/58/e860788190eba3bcce367f74d29c4675466ce8dddfba85f7827588416f01/wsproto-1.2.0-py3-none-any.whl.metadata\n",
      "  Downloading wsproto-1.2.0-py3-none-any.whl.metadata (5.6 kB)\n",
      "Requirement already satisfied: pyOpenSSL>=0.14 in c:\\users\\kulde\\anaconda3\\lib\\site-packages (from urllib3[secure]~=1.26->selenium==4.0.0.b4) (23.2.0)\n",
      "Requirement already satisfied: cryptography>=1.3.4 in c:\\users\\kulde\\anaconda3\\lib\\site-packages (from urllib3[secure]~=1.26->selenium==4.0.0.b4) (39.0.1)\n",
      "Requirement already satisfied: certifi in c:\\users\\kulde\\anaconda3\\lib\\site-packages (from urllib3[secure]~=1.26->selenium==4.0.0.b4) (2024.2.2)\n",
      "Collecting urllib3-secure-extra (from urllib3[secure]~=1.26->selenium==4.0.0.b4)\n",
      "  Obtaining dependency information for urllib3-secure-extra from https://files.pythonhosted.org/packages/90/cd/273b6978ace72ef1d3f35610206e44e4527d557500e3d7b39732f2b4dd3c/urllib3_secure_extra-0.1.0-py2.py3-none-any.whl.metadata\n",
      "  Downloading urllib3_secure_extra-0.1.0-py2.py3-none-any.whl.metadata (828 bytes)\n",
      "Requirement already satisfied: pycparser in c:\\users\\kulde\\anaconda3\\lib\\site-packages (from cffi>=1.14->trio~=0.17->selenium==4.0.0.b4) (2.21)\n",
      "Collecting h11<1,>=0.9.0 (from wsproto>=0.14->trio-websocket~=0.9->selenium==4.0.0.b4)\n",
      "  Obtaining dependency information for h11<1,>=0.9.0 from https://files.pythonhosted.org/packages/95/04/ff642e65ad6b90db43e668d70ffb6736436c7ce41fcc549f4e9472234127/h11-0.14.0-py3-none-any.whl.metadata\n",
      "  Downloading h11-0.14.0-py3-none-any.whl.metadata (8.2 kB)\n",
      "Downloading selenium-4.0.0.b4-py3-none-any.whl (1.1 MB)\n",
      "   ---------------------------------------- 0.0/1.1 MB ? eta -:--:--\n",
      "   ---- ----------------------------------- 0.1/1.1 MB 3.3 MB/s eta 0:00:01\n",
      "   -------------- ------------------------- 0.4/1.1 MB 4.9 MB/s eta 0:00:01\n",
      "   -------------- ------------------------- 0.4/1.1 MB 5.0 MB/s eta 0:00:01\n",
      "   ------------------------ --------------- 0.7/1.1 MB 4.2 MB/s eta 0:00:01\n",
      "   --------------------------------- ------ 0.9/1.1 MB 4.8 MB/s eta 0:00:01\n",
      "   --------------------------------- ------ 0.9/1.1 MB 4.8 MB/s eta 0:00:01\n",
      "   --------------------------------- ------ 0.9/1.1 MB 4.8 MB/s eta 0:00:01\n",
      "   ---------------------------------------  1.1/1.1 MB 3.0 MB/s eta 0:00:01\n",
      "   ---------------------------------------- 1.1/1.1 MB 2.9 MB/s eta 0:00:00\n",
      "Downloading trio-0.25.0-py3-none-any.whl (467 kB)\n",
      "   ---------------------------------------- 0.0/467.2 kB ? eta -:--:--\n",
      "   --------- ------------------------------ 112.6/467.2 kB 6.8 MB/s eta 0:00:01\n",
      "   ------------ --------------------------- 143.4/467.2 kB 2.1 MB/s eta 0:00:01\n",
      "   ---------------------------- ----------- 337.9/467.2 kB 3.0 MB/s eta 0:00:01\n",
      "   --------------------------------- ------ 389.1/467.2 kB 2.4 MB/s eta 0:00:01\n",
      "   ---------------------------------------- 467.2/467.2 kB 2.3 MB/s eta 0:00:00\n",
      "Downloading trio_websocket-0.11.1-py3-none-any.whl (17 kB)\n",
      "Downloading attrs-23.2.0-py3-none-any.whl (60 kB)\n",
      "   ---------------------------------------- 0.0/60.8 kB ? eta -:--:--\n",
      "   -------------------------- ------------- 41.0/60.8 kB ? eta -:--:--\n",
      "   ---------------------------------------- 60.8/60.8 kB 647.6 kB/s eta 0:00:00\n",
      "Downloading wsproto-1.2.0-py3-none-any.whl (24 kB)\n",
      "Downloading outcome-1.3.0.post0-py2.py3-none-any.whl (10 kB)\n",
      "Downloading sortedcontainers-2.4.0-py2.py3-none-any.whl (29 kB)\n",
      "Downloading urllib3_secure_extra-0.1.0-py2.py3-none-any.whl (1.4 kB)\n",
      "Downloading h11-0.14.0-py3-none-any.whl (58 kB)\n",
      "   ---------------------------------------- 0.0/58.3 kB ? eta -:--:--\n",
      "   ---------------------------------------- 58.3/58.3 kB 1.5 MB/s eta 0:00:00\n",
      "Installing collected packages: urllib3-secure-extra, sortedcontainers, h11, attrs, wsproto, outcome, trio, trio-websocket, selenium\n",
      "  Attempting uninstall: attrs\n",
      "    Found existing installation: attrs 23.1.0\n",
      "    Uninstalling attrs-23.1.0:\n",
      "      Successfully uninstalled attrs-23.1.0\n",
      "Successfully installed attrs-23.2.0 h11-0.14.0 outcome-1.3.0.post0 selenium-4.0.0b4 sortedcontainers-2.4.0 trio-0.25.0 trio-websocket-0.11.1 urllib3-secure-extra-0.1.0 wsproto-1.2.0\n",
      "Note: you may need to restart the kernel to use updated packages.\n"
     ]
    }
   ],
   "source": [
    "pip install selenium==4.0.0.b4"
   ]
  },
  {
   "cell_type": "code",
   "execution_count": 19,
   "id": "be86f49b-435e-4db9-a62a-5a51a1d9942d",
   "metadata": {},
   "outputs": [],
   "source": [
    "from selenium import webdriver\n",
    "from selenium.webdriver.chrome.service import Service\n",
    "from selenium.webdriver.common.keys import Keys\n",
    "import time"
   ]
  },
  {
   "cell_type": "code",
   "execution_count": 18,
   "id": "7a1db441-a653-449e-a3b8-3c2b7ca70736",
   "metadata": {},
   "outputs": [
    {
     "data": {
      "text/plain": [
       "True"
      ]
     },
     "execution_count": 18,
     "metadata": {},
     "output_type": "execute_result"
    }
   ],
   "source": [
    "path = \"C:/Users/kulde/Downloads/chromedriver-win32/chromedriver-win32/chromedriver.exe\"\n",
    "s = Service(path)\n",
    "driver = webdriver.Chrome(service= s)\n",
    "driver.get(\"https://google.com/\")\n",
    "time.sleep(3)\n",
    "box = driver.find_element_by_xpath(\"/html/body/div[1]/div[3]/form/div[1]/div[1]/div[1]/div/div[2]/textarea\")\n",
    "box.send_keys(\"GitHub\")\n",
    "box.send_keys(Keys.ENTER)\n",
    "time.sleep(3)\n",
    "driver.find_element_by_xpath('//*[@id=\"rso\"]/div[3]/div/div[2]/div/div/g-section-with-header/div[1]/div/div[1]/g-link/a').click()\n",
    "time.sleep(3)\n",
    "driver.save_screenshot(\"C:/Users/kulde/Downloads/chromedriver_win32/git-x.png\")"
   ]
  },
  {
   "cell_type": "code",
   "execution_count": null,
   "id": "4c895907-28a9-4124-b9fe-a46189f6041b",
   "metadata": {},
   "outputs": [],
   "source": []
  }
 ],
 "metadata": {
  "kernelspec": {
   "display_name": "Python 3 (ipykernel)",
   "language": "python",
   "name": "python3"
  },
  "language_info": {
   "codemirror_mode": {
    "name": "ipython",
    "version": 3
   },
   "file_extension": ".py",
   "mimetype": "text/x-python",
   "name": "python",
   "nbconvert_exporter": "python",
   "pygments_lexer": "ipython3",
   "version": "3.11.7"
  }
 },
 "nbformat": 4,
 "nbformat_minor": 5
}
