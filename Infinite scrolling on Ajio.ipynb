{
 "cells": [
  {
   "cell_type": "code",
   "execution_count": 4,
   "id": "ade6bba8-a16d-42bf-98b1-853c767f1e53",
   "metadata": {},
   "outputs": [],
   "source": [
    "from selenium import webdriver\n",
    "from selenium.webdriver.chrome.service import Service\n",
    "import time"
   ]
  },
  {
   "cell_type": "code",
   "execution_count": 13,
   "id": "62d0f015-3899-435b-8d77-7e30a54ca17d",
   "metadata": {},
   "outputs": [
    {
     "ename": "WebDriverException",
     "evalue": "Message: disconnected: Unable to receive message from renderer\n  (failed to check if window was closed: disconnected: not connected to DevTools)\n  (Session info: chrome=124.0.6367.61)\nStacktrace:\n\tGetHandleVerifier [0x00814CA3+225091]\n\t(No symbol) [0x00744DF1]\n\t(No symbol) [0x005E9A7A]\n\t(No symbol) [0x005DAD4C]\n\t(No symbol) [0x005DACF3]\n\t(No symbol) [0x005DA020]\n\t(No symbol) [0x005F2736]\n\t(No symbol) [0x00655FBB]\n\t(No symbol) [0x0063F2F6]\n\t(No symbol) [0x006179B9]\n\t(No symbol) [0x0061879D]\n\tsqlite3_dbdata_init [0x00C89A43+4064547]\n\tsqlite3_dbdata_init [0x00C9104A+4094762]\n\tsqlite3_dbdata_init [0x00C8B948+4072488]\n\tsqlite3_dbdata_init [0x0098C9A9+930953]\n\t(No symbol) [0x007507C4]\n\t(No symbol) [0x0074ACE8]\n\t(No symbol) [0x0074AE11]\n\t(No symbol) [0x0073CA80]\n\tBaseThreadInitThunk [0x77407BA9+25]\n\tRtlInitializeExceptionChain [0x77C7BE3B+107]\n\tRtlClearBits [0x77C7BDBF+191]\n",
     "output_type": "error",
     "traceback": [
      "\u001b[1;31m---------------------------------------------------------------------------\u001b[0m",
      "\u001b[1;31mWebDriverException\u001b[0m                        Traceback (most recent call last)",
      "Cell \u001b[1;32mIn[13], line 11\u001b[0m\n\u001b[0;32m      9\u001b[0m driver\u001b[38;5;241m.\u001b[39mexecute_script(\u001b[38;5;124m\"\u001b[39m\u001b[38;5;124mwindow.scrollTo(0,document.body.scrollHeight)\u001b[39m\u001b[38;5;124m\"\u001b[39m)\n\u001b[0;32m     10\u001b[0m time\u001b[38;5;241m.\u001b[39msleep(\u001b[38;5;241m4\u001b[39m)\n\u001b[1;32m---> 11\u001b[0m new_height \u001b[38;5;241m=\u001b[39m driver\u001b[38;5;241m.\u001b[39mexecute_script(\u001b[38;5;124m\"\u001b[39m\u001b[38;5;124mreturn document.body.scrollHeight\u001b[39m\u001b[38;5;124m\"\u001b[39m)\n\u001b[0;32m     12\u001b[0m \u001b[38;5;28;01mif\u001b[39;00m height \u001b[38;5;241m==\u001b[39m new_height:\n\u001b[0;32m     13\u001b[0m     \u001b[38;5;28;01mbreak\u001b[39;00m\n",
      "File \u001b[1;32m~\\anaconda3\\Lib\\site-packages\\selenium\\webdriver\\remote\\webdriver.py:790\u001b[0m, in \u001b[0;36mWebDriver.execute_script\u001b[1;34m(self, script, *args)\u001b[0m\n\u001b[0;32m    787\u001b[0m converted_args \u001b[38;5;241m=\u001b[39m \u001b[38;5;28mlist\u001b[39m(args)\n\u001b[0;32m    788\u001b[0m command \u001b[38;5;241m=\u001b[39m Command\u001b[38;5;241m.\u001b[39mW3C_EXECUTE_SCRIPT\n\u001b[1;32m--> 790\u001b[0m \u001b[38;5;28;01mreturn\u001b[39;00m \u001b[38;5;28mself\u001b[39m\u001b[38;5;241m.\u001b[39mexecute(command, {\n\u001b[0;32m    791\u001b[0m     \u001b[38;5;124m'\u001b[39m\u001b[38;5;124mscript\u001b[39m\u001b[38;5;124m'\u001b[39m: script,\n\u001b[0;32m    792\u001b[0m     \u001b[38;5;124m'\u001b[39m\u001b[38;5;124margs\u001b[39m\u001b[38;5;124m'\u001b[39m: converted_args})[\u001b[38;5;124m'\u001b[39m\u001b[38;5;124mvalue\u001b[39m\u001b[38;5;124m'\u001b[39m]\n",
      "File \u001b[1;32m~\\anaconda3\\Lib\\site-packages\\selenium\\webdriver\\remote\\webdriver.py:400\u001b[0m, in \u001b[0;36mWebDriver.execute\u001b[1;34m(self, driver_command, params)\u001b[0m\n\u001b[0;32m    398\u001b[0m response \u001b[38;5;241m=\u001b[39m \u001b[38;5;28mself\u001b[39m\u001b[38;5;241m.\u001b[39mcommand_executor\u001b[38;5;241m.\u001b[39mexecute(driver_command, params)\n\u001b[0;32m    399\u001b[0m \u001b[38;5;28;01mif\u001b[39;00m response:\n\u001b[1;32m--> 400\u001b[0m     \u001b[38;5;28mself\u001b[39m\u001b[38;5;241m.\u001b[39merror_handler\u001b[38;5;241m.\u001b[39mcheck_response(response)\n\u001b[0;32m    401\u001b[0m     response[\u001b[38;5;124m'\u001b[39m\u001b[38;5;124mvalue\u001b[39m\u001b[38;5;124m'\u001b[39m] \u001b[38;5;241m=\u001b[39m \u001b[38;5;28mself\u001b[39m\u001b[38;5;241m.\u001b[39m_unwrap_value(\n\u001b[0;32m    402\u001b[0m         response\u001b[38;5;241m.\u001b[39mget(\u001b[38;5;124m'\u001b[39m\u001b[38;5;124mvalue\u001b[39m\u001b[38;5;124m'\u001b[39m, \u001b[38;5;28;01mNone\u001b[39;00m))\n\u001b[0;32m    403\u001b[0m     \u001b[38;5;28;01mreturn\u001b[39;00m response\n",
      "File \u001b[1;32m~\\anaconda3\\Lib\\site-packages\\selenium\\webdriver\\remote\\errorhandler.py:236\u001b[0m, in \u001b[0;36mErrorHandler.check_response\u001b[1;34m(self, response)\u001b[0m\n\u001b[0;32m    234\u001b[0m         alert_text \u001b[38;5;241m=\u001b[39m value[\u001b[38;5;124m'\u001b[39m\u001b[38;5;124malert\u001b[39m\u001b[38;5;124m'\u001b[39m]\u001b[38;5;241m.\u001b[39mget(\u001b[38;5;124m'\u001b[39m\u001b[38;5;124mtext\u001b[39m\u001b[38;5;124m'\u001b[39m)\n\u001b[0;32m    235\u001b[0m     \u001b[38;5;28;01mraise\u001b[39;00m exception_class(message, screen, stacktrace, alert_text)\n\u001b[1;32m--> 236\u001b[0m \u001b[38;5;28;01mraise\u001b[39;00m exception_class(message, screen, stacktrace)\n",
      "\u001b[1;31mWebDriverException\u001b[0m: Message: disconnected: Unable to receive message from renderer\n  (failed to check if window was closed: disconnected: not connected to DevTools)\n  (Session info: chrome=124.0.6367.61)\nStacktrace:\n\tGetHandleVerifier [0x00814CA3+225091]\n\t(No symbol) [0x00744DF1]\n\t(No symbol) [0x005E9A7A]\n\t(No symbol) [0x005DAD4C]\n\t(No symbol) [0x005DACF3]\n\t(No symbol) [0x005DA020]\n\t(No symbol) [0x005F2736]\n\t(No symbol) [0x00655FBB]\n\t(No symbol) [0x0063F2F6]\n\t(No symbol) [0x006179B9]\n\t(No symbol) [0x0061879D]\n\tsqlite3_dbdata_init [0x00C89A43+4064547]\n\tsqlite3_dbdata_init [0x00C9104A+4094762]\n\tsqlite3_dbdata_init [0x00C8B948+4072488]\n\tsqlite3_dbdata_init [0x0098C9A9+930953]\n\t(No symbol) [0x007507C4]\n\t(No symbol) [0x0074ACE8]\n\t(No symbol) [0x0074AE11]\n\t(No symbol) [0x0073CA80]\n\tBaseThreadInitThunk [0x77407BA9+25]\n\tRtlInitializeExceptionChain [0x77C7BE3B+107]\n\tRtlClearBits [0x77C7BDBF+191]\n"
     ]
    }
   ],
   "source": [
    "url = \"https://www.ajio.com/men-sneakers/c/830207010?query=%3Arelevance%3Agenderfilter%3AMen&gridColumns=3&customerType=New\"\n",
    "s = Service(\"C:/Users/kulde/Downloads/chromedriver-win32/chromedriver-win32/chromedriver.exe\")\n",
    "driver =  webdriver.Chrome(service = s)\n",
    "driver.get(url)\n",
    "time.sleep(4)\n",
    "height = driver.execute_script(\"return document.body.scrollHeight\")\n",
    "while True:\n",
    "    # print(height)\n",
    "    driver.execute_script(\"window.scrollTo(0,document.body.scrollHeight)\")\n",
    "    time.sleep(4)\n",
    "    new_height = driver.execute_script(\"return document.body.scrollHeight\")\n",
    "    if height == new_height:\n",
    "        break\n",
    "    height = new_height"
   ]
  },
  {
   "cell_type": "code",
   "execution_count": null,
   "id": "ef00aedb-7602-4096-b9f7-39e385e58414",
   "metadata": {},
   "outputs": [],
   "source": []
  }
 ],
 "metadata": {
  "kernelspec": {
   "display_name": "Python 3 (ipykernel)",
   "language": "python",
   "name": "python3"
  },
  "language_info": {
   "codemirror_mode": {
    "name": "ipython",
    "version": 3
   },
   "file_extension": ".py",
   "mimetype": "text/x-python",
   "name": "python",
   "nbconvert_exporter": "python",
   "pygments_lexer": "ipython3",
   "version": "3.11.7"
  }
 },
 "nbformat": 4,
 "nbformat_minor": 5
}
